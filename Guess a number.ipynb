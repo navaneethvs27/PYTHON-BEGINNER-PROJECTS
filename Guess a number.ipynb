{
 "cells": [
  {
   "cell_type": "code",
   "execution_count": 1,
   "id": "7d9493d7",
   "metadata": {},
   "outputs": [],
   "source": [
    "import random"
   ]
  },
  {
   "cell_type": "code",
   "execution_count": 3,
   "id": "0c1f9a23",
   "metadata": {},
   "outputs": [
    {
     "name": "stdout",
     "output_type": "stream",
     "text": [
      "guess a number b/w 1 and 10: 5\n",
      "sorry guess again , too low\n",
      "guess a number b/w 1 and 10: 10\n",
      "sorry guess again, too high\n",
      "guess a number b/w 1 and 10: 7\n",
      "sorry guess again , too low\n",
      "guess a number b/w 1 and 10: 9\n",
      "yay congrats you have guessed the correct number 9 correctly\n"
     ]
    }
   ],
   "source": [
    "def guess(x):\n",
    "    random_number=random.randint(1,x)\n",
    "    guess=0\n",
    "    while guess != random_number:\n",
    "        guess=int(input(f\"guess a number b/w 1 and {x}: \"))\n",
    "        if guess < random_number:\n",
    "            print(\"sorry guess again , too low\")\n",
    "        elif guess > random_number:\n",
    "            print(\"sorry guess again, too high\")\n",
    "    print(f\"yay congrats you have guessed the correct number {random_number} correctly\")\n",
    "guess(10)"
   ]
  },
  {
   "cell_type": "code",
   "execution_count": null,
   "id": "0afbd071",
   "metadata": {},
   "outputs": [],
   "source": []
  }
 ],
 "metadata": {
  "kernelspec": {
   "display_name": "Python 3 (ipykernel)",
   "language": "python",
   "name": "python3"
  },
  "language_info": {
   "codemirror_mode": {
    "name": "ipython",
    "version": 3
   },
   "file_extension": ".py",
   "mimetype": "text/x-python",
   "name": "python",
   "nbconvert_exporter": "python",
   "pygments_lexer": "ipython3",
   "version": "3.9.12"
  }
 },
 "nbformat": 4,
 "nbformat_minor": 5
}
