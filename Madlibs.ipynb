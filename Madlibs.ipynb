{
 "cells": [
  {
   "cell_type": "code",
   "execution_count": 1,
   "id": "1116164f",
   "metadata": {},
   "outputs": [],
   "source": [
    "#code for how to create a madlibs"
   ]
  },
  {
   "cell_type": "code",
   "execution_count": 2,
   "id": "77c0aa35",
   "metadata": {},
   "outputs": [
    {
     "name": "stdout",
     "output_type": "stream",
     "text": [
      "adjective:amazing\n",
      "verb:jump\n",
      "verb:dance\n",
      "name:batman\n"
     ]
    }
   ],
   "source": [
    "adj= input(\"adjective:\")\n",
    "verb1= input(\"verb:\")\n",
    "verb2=input(\"verb:\")\n",
    "name= input(\"name:\")"
   ]
  },
  {
   "cell_type": "code",
   "execution_count": 6,
   "id": "96eb597b",
   "metadata": {},
   "outputs": [],
   "source": [
    "madlib= f\"Computer programming is so {adj}! It makes me so excited all the time because I love to {verb1}.Stay hydrated and\\\n",
    " {verb2}.Like you are {name}\""
   ]
  },
  {
   "cell_type": "code",
   "execution_count": 7,
   "id": "9d480722",
   "metadata": {},
   "outputs": [
    {
     "name": "stdout",
     "output_type": "stream",
     "text": [
      "Computer programming is so amazing! It makes me so excited all the time because I love to jump.Stay hydrated and dance.Like you are batman\n"
     ]
    }
   ],
   "source": [
    "print(madlib)"
   ]
  },
  {
   "cell_type": "code",
   "execution_count": null,
   "id": "59711aa9",
   "metadata": {},
   "outputs": [],
   "source": []
  },
  {
   "cell_type": "code",
   "execution_count": null,
   "id": "647dcf63",
   "metadata": {},
   "outputs": [],
   "source": []
  },
  {
   "cell_type": "code",
   "execution_count": null,
   "id": "2e475e3d",
   "metadata": {},
   "outputs": [],
   "source": []
  },
  {
   "cell_type": "code",
   "execution_count": null,
   "id": "78869478",
   "metadata": {},
   "outputs": [],
   "source": []
  },
  {
   "cell_type": "code",
   "execution_count": null,
   "id": "65791a64",
   "metadata": {},
   "outputs": [],
   "source": []
  }
 ],
 "metadata": {
  "kernelspec": {
   "display_name": "Python 3 (ipykernel)",
   "language": "python",
   "name": "python3"
  },
  "language_info": {
   "codemirror_mode": {
    "name": "ipython",
    "version": 3
   },
   "file_extension": ".py",
   "mimetype": "text/x-python",
   "name": "python",
   "nbconvert_exporter": "python",
   "pygments_lexer": "ipython3",
   "version": "3.9.12"
  }
 },
 "nbformat": 4,
 "nbformat_minor": 5
}
