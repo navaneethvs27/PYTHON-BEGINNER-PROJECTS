{
 "cells": [
  {
   "cell_type": "code",
   "execution_count": 1,
   "id": "97ea60ec",
   "metadata": {},
   "outputs": [],
   "source": [
    "import random"
   ]
  },
  {
   "cell_type": "code",
   "execution_count": 7,
   "id": "54f16932",
   "metadata": {},
   "outputs": [],
   "source": [
    "def play():\n",
    "    user = input(\"what is your choice?'r' for rock , 'p' for paper, 's' for scissors:\")\n",
    "    \n",
    "    computer=random.choice(['r','s','p'])\n",
    "    \n",
    "    if user == computer:\n",
    "        return 'it is a tie'\n",
    "    \n",
    "    if is_win(user,computer):\n",
    "        return 'you won'\n",
    "    \n",
    "    return 'you lost'\n",
    "    \n",
    "def is_win(player, opponent):\n",
    "    if (player == 'r' and opponent =='s') or (player=='s' and opponent =='p') or (player =='p' and opponent=='r'):\n",
    "        return True"
   ]
  },
  {
   "cell_type": "code",
   "execution_count": 10,
   "id": "550f0c85",
   "metadata": {},
   "outputs": [
    {
     "name": "stdout",
     "output_type": "stream",
     "text": [
      "what is your choice?'r' for rock , 'p' for paper, 's' for scissors:r\n",
      "you won\n"
     ]
    }
   ],
   "source": [
    "print(play())"
   ]
  },
  {
   "cell_type": "code",
   "execution_count": null,
   "id": "82740c5b",
   "metadata": {},
   "outputs": [],
   "source": []
  },
  {
   "cell_type": "code",
   "execution_count": null,
   "id": "53a2b278",
   "metadata": {},
   "outputs": [],
   "source": []
  }
 ],
 "metadata": {
  "kernelspec": {
   "display_name": "Python 3 (ipykernel)",
   "language": "python",
   "name": "python3"
  },
  "language_info": {
   "codemirror_mode": {
    "name": "ipython",
    "version": 3
   },
   "file_extension": ".py",
   "mimetype": "text/x-python",
   "name": "python",
   "nbconvert_exporter": "python",
   "pygments_lexer": "ipython3",
   "version": "3.9.12"
  }
 },
 "nbformat": 4,
 "nbformat_minor": 5
}
